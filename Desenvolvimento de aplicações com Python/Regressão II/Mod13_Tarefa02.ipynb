{
 "cells": [
  {
   "cell_type": "markdown",
   "metadata": {},
   "source": [
    "# EBAC - Regressão II - regressão múltipla\n",
    "\n",
    "## Tarefa I"
   ]
  },
  {
   "cell_type": "markdown",
   "metadata": {},
   "source": [
    "#### Previsão de renda II\n",
    "\n",
    "Vamos continuar trabalhando com a base 'previsao_de_renda.csv', que é a base do seu próximo projeto. Vamos usar os recursos que vimos até aqui nesta base.\n",
    "\n",
    "|variavel|descrição|\n",
    "|-|-|\n",
    "|data_ref                | Data de referência de coleta das variáveis |\n",
    "|index                   | Código de identificação do cliente|\n",
    "|sexo                    | Sexo do cliente|\n",
    "|posse_de_veiculo        | Indica se o cliente possui veículo|\n",
    "|posse_de_imovel         | Indica se o cliente possui imóvel|\n",
    "|qtd_filhos              | Quantidade de filhos do cliente|\n",
    "|tipo_renda              | Tipo de renda do cliente|\n",
    "|educacao                | Grau de instrução do cliente|\n",
    "|estado_civil            | Estado civil do cliente|\n",
    "|tipo_residencia         | Tipo de residência do cliente (própria, alugada etc)|\n",
    "|idade                   | Idade do cliente|\n",
    "|tempo_emprego           | Tempo no emprego atual|\n",
    "|qt_pessoas_residencia   | Quantidade de pessoas que moram na residência|\n",
    "|renda                   | Renda em reais|"
   ]
  },
  {
   "cell_type": "code",
   "execution_count": 34,
   "metadata": {},
   "outputs": [],
   "source": [
    "import pandas as pd\n",
    "import numpy as np\n",
    "\n",
    "from sklearn.tree import DecisionTreeRegressor\n",
    "from sklearn.model_selection import train_test_split\n",
    "from sklearn.metrics import mean_squared_error\n",
    "\n",
    "import statsmodels.api as sm\n",
    "import statsmodels.formula.api as smf\n",
    "\n",
    "import warnings\n",
    "\n",
    "warnings.simplefilter(action='ignore', category=FutureWarning)"
   ]
  },
  {
   "cell_type": "markdown",
   "metadata": {},
   "source": [
    "Pretendo usar a biblioteca scikitlearn, portanto vou tratar os dados para remover valores nulos"
   ]
  },
  {
   "cell_type": "code",
   "execution_count": 35,
   "metadata": {},
   "outputs": [
    {
     "name": "stdout",
     "output_type": "stream",
     "text": [
      "(12427, 12)\n"
     ]
    },
    {
     "data": {
      "text/html": [
       "<div>\n",
       "<style scoped>\n",
       "    .dataframe tbody tr th:only-of-type {\n",
       "        vertical-align: middle;\n",
       "    }\n",
       "\n",
       "    .dataframe tbody tr th {\n",
       "        vertical-align: top;\n",
       "    }\n",
       "\n",
       "    .dataframe thead th {\n",
       "        text-align: right;\n",
       "    }\n",
       "</style>\n",
       "<table border=\"1\" class=\"dataframe\">\n",
       "  <thead>\n",
       "    <tr style=\"text-align: right;\">\n",
       "      <th></th>\n",
       "      <th>sexo</th>\n",
       "      <th>posse_de_veiculo</th>\n",
       "      <th>posse_de_imovel</th>\n",
       "      <th>qtd_filhos</th>\n",
       "      <th>tipo_renda</th>\n",
       "      <th>educacao</th>\n",
       "      <th>estado_civil</th>\n",
       "      <th>tipo_residencia</th>\n",
       "      <th>idade</th>\n",
       "      <th>tempo_emprego</th>\n",
       "      <th>qt_pessoas_residencia</th>\n",
       "      <th>renda</th>\n",
       "    </tr>\n",
       "  </thead>\n",
       "  <tbody>\n",
       "    <tr>\n",
       "      <th>0</th>\n",
       "      <td>F</td>\n",
       "      <td>False</td>\n",
       "      <td>True</td>\n",
       "      <td>0</td>\n",
       "      <td>Empresário</td>\n",
       "      <td>Secundário</td>\n",
       "      <td>Solteiro</td>\n",
       "      <td>Casa</td>\n",
       "      <td>26</td>\n",
       "      <td>6.602740</td>\n",
       "      <td>1.0</td>\n",
       "      <td>8060.34</td>\n",
       "    </tr>\n",
       "    <tr>\n",
       "      <th>1</th>\n",
       "      <td>M</td>\n",
       "      <td>True</td>\n",
       "      <td>True</td>\n",
       "      <td>0</td>\n",
       "      <td>Assalariado</td>\n",
       "      <td>Superior completo</td>\n",
       "      <td>Casado</td>\n",
       "      <td>Casa</td>\n",
       "      <td>28</td>\n",
       "      <td>7.183562</td>\n",
       "      <td>2.0</td>\n",
       "      <td>1852.15</td>\n",
       "    </tr>\n",
       "    <tr>\n",
       "      <th>2</th>\n",
       "      <td>F</td>\n",
       "      <td>True</td>\n",
       "      <td>True</td>\n",
       "      <td>0</td>\n",
       "      <td>Empresário</td>\n",
       "      <td>Superior completo</td>\n",
       "      <td>Casado</td>\n",
       "      <td>Casa</td>\n",
       "      <td>35</td>\n",
       "      <td>0.838356</td>\n",
       "      <td>2.0</td>\n",
       "      <td>2253.89</td>\n",
       "    </tr>\n",
       "    <tr>\n",
       "      <th>3</th>\n",
       "      <td>F</td>\n",
       "      <td>False</td>\n",
       "      <td>True</td>\n",
       "      <td>1</td>\n",
       "      <td>Servidor público</td>\n",
       "      <td>Superior completo</td>\n",
       "      <td>Casado</td>\n",
       "      <td>Casa</td>\n",
       "      <td>30</td>\n",
       "      <td>4.846575</td>\n",
       "      <td>3.0</td>\n",
       "      <td>6600.77</td>\n",
       "    </tr>\n",
       "    <tr>\n",
       "      <th>4</th>\n",
       "      <td>M</td>\n",
       "      <td>True</td>\n",
       "      <td>False</td>\n",
       "      <td>0</td>\n",
       "      <td>Assalariado</td>\n",
       "      <td>Secundário</td>\n",
       "      <td>Solteiro</td>\n",
       "      <td>Governamental</td>\n",
       "      <td>33</td>\n",
       "      <td>4.293151</td>\n",
       "      <td>1.0</td>\n",
       "      <td>6475.97</td>\n",
       "    </tr>\n",
       "  </tbody>\n",
       "</table>\n",
       "</div>"
      ],
      "text/plain": [
       "  sexo  posse_de_veiculo  posse_de_imovel  qtd_filhos        tipo_renda  \\\n",
       "0    F             False             True           0        Empresário   \n",
       "1    M              True             True           0       Assalariado   \n",
       "2    F              True             True           0        Empresário   \n",
       "3    F             False             True           1  Servidor público   \n",
       "4    M              True            False           0       Assalariado   \n",
       "\n",
       "            educacao estado_civil tipo_residencia  idade  tempo_emprego  \\\n",
       "0         Secundário     Solteiro            Casa     26       6.602740   \n",
       "1  Superior completo       Casado            Casa     28       7.183562   \n",
       "2  Superior completo       Casado            Casa     35       0.838356   \n",
       "3  Superior completo       Casado            Casa     30       4.846575   \n",
       "4         Secundário     Solteiro   Governamental     33       4.293151   \n",
       "\n",
       "   qt_pessoas_residencia    renda  \n",
       "0                    1.0  8060.34  \n",
       "1                    2.0  1852.15  \n",
       "2                    2.0  2253.89  \n",
       "3                    3.0  6600.77  \n",
       "4                    1.0  6475.97  "
      ]
     },
     "execution_count": 35,
     "metadata": {},
     "output_type": "execute_result"
    }
   ],
   "source": [
    "df = pd.read_csv('previsao_de_renda.csv').iloc[:, 3:].dropna()\n",
    "X = df.drop(columns='renda')\n",
    "y = df['renda']\n",
    "print(df.shape)\n",
    "df.head()"
   ]
  },
  {
   "cell_type": "code",
   "execution_count": 36,
   "metadata": {},
   "outputs": [
    {
     "name": "stdout",
     "output_type": "stream",
     "text": [
      "<class 'pandas.core.frame.DataFrame'>\n",
      "Index: 12427 entries, 0 to 14999\n",
      "Data columns (total 12 columns):\n",
      " #   Column                 Non-Null Count  Dtype  \n",
      "---  ------                 --------------  -----  \n",
      " 0   sexo                   12427 non-null  object \n",
      " 1   posse_de_veiculo       12427 non-null  bool   \n",
      " 2   posse_de_imovel        12427 non-null  bool   \n",
      " 3   qtd_filhos             12427 non-null  int64  \n",
      " 4   tipo_renda             12427 non-null  object \n",
      " 5   educacao               12427 non-null  object \n",
      " 6   estado_civil           12427 non-null  object \n",
      " 7   tipo_residencia        12427 non-null  object \n",
      " 8   idade                  12427 non-null  int64  \n",
      " 9   tempo_emprego          12427 non-null  float64\n",
      " 10  qt_pessoas_residencia  12427 non-null  float64\n",
      " 11  renda                  12427 non-null  float64\n",
      "dtypes: bool(2), float64(3), int64(2), object(5)\n",
      "memory usage: 1.1+ MB\n"
     ]
    }
   ],
   "source": [
    "df.info()"
   ]
  },
  {
   "cell_type": "markdown",
   "metadata": {},
   "source": [
    "1. Separe a base em treinamento e teste (25% para teste, 75% para treinamento)."
   ]
  },
  {
   "cell_type": "code",
   "execution_count": 37,
   "metadata": {},
   "outputs": [
    {
     "name": "stdout",
     "output_type": "stream",
     "text": [
      "sexo + \n",
      "posse_de_veiculo + \n",
      "posse_de_imovel + \n",
      "qtd_filhos + \n",
      "tipo_renda + \n",
      "educacao + \n",
      "estado_civil + \n",
      "tipo_residencia + \n",
      "idade + \n",
      "tempo_emprego + \n",
      "qt_pessoas_residencia + \n",
      "renda\n"
     ]
    }
   ],
   "source": [
    "print(str(list(df.columns)).replace('[', '').replace(',', '').replace(\"'\", \"\").replace(']', '').replace(' ', ' + \\n'))"
   ]
  },
  {
   "cell_type": "code",
   "execution_count": 39,
   "metadata": {},
   "outputs": [],
   "source": [
    "X_train, X_test, y_train, y_test = train_test_split(X, y,test_size=.25, random_state=42)"
   ]
  },
  {
   "cell_type": "code",
   "execution_count": 43,
   "metadata": {},
   "outputs": [],
   "source": [
    "df_train = pd.concat([X_train, y_train], axis=1)"
   ]
  },
  {
   "cell_type": "markdown",
   "metadata": {},
   "source": [
    "2. Rode uma regularização *ridge* com alpha = [0, 0.001, 0.005, 0.01, 0.05, 0.1] e avalie o $R^2$ na base de testes. Qual o melhor modelo?"
   ]
  },
  {
   "cell_type": "code",
   "execution_count": 38,
   "metadata": {},
   "outputs": [],
   "source": [
    "modelo = '''np.log(renda) ~ sexo + \n",
    "            posse_de_veiculo + \n",
    "            posse_de_imovel + \n",
    "            qtd_filhos + \n",
    "            tipo_renda + \n",
    "            educacao + \n",
    "            estado_civil + \n",
    "            tipo_residencia + \n",
    "            idade + \n",
    "            tempo_emprego + \n",
    "            qt_pessoas_residencia'''"
   ]
  },
  {
   "cell_type": "code",
   "execution_count": 44,
   "metadata": {},
   "outputs": [
    {
     "name": "stdout",
     "output_type": "stream",
     "text": [
      "Método não implementado\n"
     ]
    }
   ],
   "source": [
    "md = smf.ols(modelo, data=df_train)\n",
    "reg = md.fit_regularized(method = 'elastic_net' \n",
    "                         , refit = True\n",
    "                         , L1_wt=0\n",
    "                         , alpha = 0.01)\n",
    "\n",
    "try:\n",
    "    reg.summary()\n",
    "except NotImplementedError as e:\n",
    "    print(f\"Método não implementado\")"
   ]
  },
  {
   "cell_type": "markdown",
   "metadata": {},
   "source": [
    "O método *.summary()* ainda não está implementado para regressão *Rigde* no *statsmodel*. Vou tentar outro recurso"
   ]
  },
  {
   "cell_type": "code",
   "execution_count": 45,
   "metadata": {},
   "outputs": [
    {
     "data": {
      "text/plain": [
       "0.3076345894666336"
      ]
     },
     "execution_count": 45,
     "metadata": {},
     "output_type": "execute_result"
    }
   ],
   "source": [
    "from sklearn.metrics import r2_score\n",
    "\n",
    "y_pred = np.exp(reg.predict(X_test))\n",
    "\n",
    "r2 = r2_score(y_test, y_pred)\n",
    "\n",
    "r2"
   ]
  },
  {
   "cell_type": "code",
   "execution_count": 46,
   "metadata": {},
   "outputs": [
    {
     "name": "stdout",
     "output_type": "stream",
     "text": [
      "R² da regressão Ridge na base de testes com alpha=0: 0.29455735164490837\n",
      "\n",
      "R² da regressão Ridge na base de testes com alpha=0.001: 0.2996142420872713\n",
      "\n",
      "R² da regressão Ridge na base de testes com alpha=0.005: 0.30718429599878816\n",
      "\n",
      "R² da regressão Ridge na base de testes com alpha=0.01: 0.3076345894666336\n",
      "\n",
      "R² da regressão Ridge na base de testes com alpha=0.05: -0.7989796297816854\n",
      "\n",
      "R² da regressão Ridge na base de testes com alpha=0.1: -26.27898505162479\n",
      "\n"
     ]
    }
   ],
   "source": [
    "alphas = [0, 0.001, 0.005, 0.01, 0.05, 0.1]\n",
    "\n",
    "for alpha in alphas:\n",
    "    md = smf.ols(modelo, data = df_train)\n",
    "    reg = md.fit_regularized(method = 'elastic_net' \n",
    "                            , refit = True\n",
    "                            , L1_wt=0\n",
    "                            , alpha = alpha)\n",
    "    y_pred = np.exp(reg.predict(X_test))\n",
    "\n",
    "    r2 = r2_score(y_test, y_pred)\n",
    "\n",
    "    print(f\"R² da regressão Ridge na base de testes com alpha={alpha}: {r2}\\n\")"
   ]
  },
  {
   "cell_type": "markdown",
   "metadata": {},
   "source": [
    "O melhor modelo até aqui parece ser o que usa alpha=0.01"
   ]
  },
  {
   "cell_type": "markdown",
   "metadata": {},
   "source": [
    "3. Faça o mesmo que no passo 2, com uma regressão *LASSO*. Qual método chega a um melhor resultado?"
   ]
  },
  {
   "cell_type": "code",
   "execution_count": 47,
   "metadata": {},
   "outputs": [
    {
     "name": "stdout",
     "output_type": "stream",
     "text": [
      "R² da regressão Lasso na base de testes com alpha=0: 0.2945573516449098\n",
      "\n",
      "R² da regressão Lasso na base de testes com alpha=0.001: 0.2947786000590946\n",
      "\n",
      "R² da regressão Lasso na base de testes com alpha=0.005: 0.2870024250435904\n",
      "\n",
      "R² da regressão Lasso na base de testes com alpha=0.01: 0.2866866846260483\n",
      "\n",
      "R² da regressão Lasso na base de testes com alpha=0.05: 0.2787248413179789\n",
      "\n",
      "R² da regressão Lasso na base de testes com alpha=0.1: 0.2787248413179789\n",
      "\n"
     ]
    }
   ],
   "source": [
    "for alpha in alphas:\n",
    "    md = smf.ols(modelo, data = df_train)\n",
    "    reg = md.fit_regularized(method = 'elastic_net' \n",
    "                            , refit = True\n",
    "                            , L1_wt=1\n",
    "                            , alpha = alpha)\n",
    "    y_pred = np.exp(reg.predict(X_test))\n",
    "\n",
    "    r2 = r2_score(y_test, y_pred)\n",
    "\n",
    "    print(f\"R² da regressão Lasso na base de testes com alpha={alpha}: {r2}\\n\")"
   ]
  },
  {
   "cell_type": "markdown",
   "metadata": {},
   "source": [
    "Avaliando apenas R², o modelo Rigde com alpha=0.01 chega a um melhor resultado"
   ]
  },
  {
   "cell_type": "markdown",
   "metadata": {},
   "source": [
    "4. Rode um modelo *stepwise*. Avalie o $R^2$ na base de testes. Qual o melhor resultado?"
   ]
  },
  {
   "cell_type": "code",
   "execution_count": 48,
   "metadata": {},
   "outputs": [],
   "source": [
    "def stepwise_selection(X, y, \n",
    "                       initial_list=[], \n",
    "                       threshold_in=0.01, \n",
    "                       threshold_out=0.05, \n",
    "                       verbose=True):\n",
    "    \"\"\" Perform a forward-backward feature selection \n",
    "    based on p-value from statsmodels.api.OLS\n",
    "    Arguments:\n",
    "        X - pandas.DataFrame with candidate features\n",
    "        y - list-like with the target\n",
    "        initial_list - list of features to start with (default is empty)\n",
    "        threshold_in - include a feature if its p-value < threshold_in\n",
    "        threshold_out - exclude a feature if its p-value > threshold_out\n",
    "        verbose - whether to print the sequence of inclusions and exclusions\n",
    "    Returns: list of selected features \n",
    "    \"\"\"\n",
    "    included = list(initial_list)\n",
    "    while True:\n",
    "        changed = False\n",
    "        # forward step\n",
    "        excluded = list(set(X.columns) - set(included))\n",
    "        new_pval = pd.Series(index=excluded, dtype=float)\n",
    "        for new_column in excluded:\n",
    "            model = sm.OLS(y, sm.add_constant(pd.DataFrame(X[included + [new_column]]))).fit()\n",
    "            new_pval[new_column] = model.pvalues[new_column]\n",
    "        best_pval = new_pval.min()\n",
    "        if best_pval < threshold_in:\n",
    "            best_feature = new_pval.idxmin()\n",
    "            included.append(best_feature)\n",
    "            changed = True\n",
    "            if verbose:\n",
    "                print('Add  {:30} with p-value {:.6}'.format(best_feature, best_pval))\n",
    "\n",
    "        # backward step\n",
    "        model = sm.OLS(y, sm.add_constant(pd.DataFrame(X[included]))).fit()\n",
    "        # use all coefs except intercept\n",
    "        pvalues = model.pvalues.iloc[1:]\n",
    "        worst_pval = pvalues.max()\n",
    "        if worst_pval > threshold_out:\n",
    "            changed = True\n",
    "            worst_feature = pvalues.idxmax()\n",
    "            included.remove(worst_feature)\n",
    "            if verbose:\n",
    "                print('Drop {:30} with p-value {:.6}'.format(worst_feature, worst_pval))\n",
    "        if not changed:\n",
    "            break\n",
    "    return included"
   ]
  },
  {
   "cell_type": "code",
   "execution_count": 49,
   "metadata": {},
   "outputs": [
    {
     "name": "stdout",
     "output_type": "stream",
     "text": [
      "Pandas data cast to numpy dtype of object. Check input data with np.asarray(data).\n"
     ]
    }
   ],
   "source": [
    "try:\n",
    "    result = stepwise_selection(X, np.log(y))\n",
    "\n",
    "    print('resulting features:')\n",
    "    print(result)\n",
    "except ValueError as ve:\n",
    "    print(ve)"
   ]
  },
  {
   "cell_type": "code",
   "execution_count": 50,
   "metadata": {},
   "outputs": [
    {
     "data": {
      "text/plain": [
       "sexo                      object\n",
       "posse_de_veiculo            bool\n",
       "posse_de_imovel             bool\n",
       "qtd_filhos                 int64\n",
       "tipo_renda                object\n",
       "educacao                  object\n",
       "estado_civil              object\n",
       "tipo_residencia           object\n",
       "idade                      int64\n",
       "tempo_emprego            float64\n",
       "qt_pessoas_residencia    float64\n",
       "dtype: object"
      ]
     },
     "execution_count": 50,
     "metadata": {},
     "output_type": "execute_result"
    }
   ],
   "source": [
    "X.dtypes"
   ]
  },
  {
   "cell_type": "markdown",
   "metadata": {},
   "source": [
    "A função stepwise não consegue lidar diretamente com valores object ou bool. Vou fazer as conversões necessárias"
   ]
  },
  {
   "cell_type": "code",
   "execution_count": 51,
   "metadata": {},
   "outputs": [
    {
     "data": {
      "text/html": [
       "<div>\n",
       "<style scoped>\n",
       "    .dataframe tbody tr th:only-of-type {\n",
       "        vertical-align: middle;\n",
       "    }\n",
       "\n",
       "    .dataframe tbody tr th {\n",
       "        vertical-align: top;\n",
       "    }\n",
       "\n",
       "    .dataframe thead th {\n",
       "        text-align: right;\n",
       "    }\n",
       "</style>\n",
       "<table border=\"1\" class=\"dataframe\">\n",
       "  <thead>\n",
       "    <tr style=\"text-align: right;\">\n",
       "      <th></th>\n",
       "      <th>posse_de_veiculo</th>\n",
       "      <th>posse_de_imovel</th>\n",
       "      <th>qtd_filhos</th>\n",
       "      <th>idade</th>\n",
       "      <th>tempo_emprego</th>\n",
       "      <th>qt_pessoas_residencia</th>\n",
       "      <th>sexo_M</th>\n",
       "      <th>tipo_renda_Bolsista</th>\n",
       "      <th>tipo_renda_Empresário</th>\n",
       "      <th>tipo_renda_Pensionista</th>\n",
       "      <th>...</th>\n",
       "      <th>educacao_Superior incompleto</th>\n",
       "      <th>estado_civil_Separado</th>\n",
       "      <th>estado_civil_Solteiro</th>\n",
       "      <th>estado_civil_União</th>\n",
       "      <th>estado_civil_Viúvo</th>\n",
       "      <th>tipo_residencia_Casa</th>\n",
       "      <th>tipo_residencia_Com os pais</th>\n",
       "      <th>tipo_residencia_Comunitário</th>\n",
       "      <th>tipo_residencia_Estúdio</th>\n",
       "      <th>tipo_residencia_Governamental</th>\n",
       "    </tr>\n",
       "  </thead>\n",
       "  <tbody>\n",
       "    <tr>\n",
       "      <th>0</th>\n",
       "      <td>0</td>\n",
       "      <td>1</td>\n",
       "      <td>0</td>\n",
       "      <td>26</td>\n",
       "      <td>6.602740</td>\n",
       "      <td>1.0</td>\n",
       "      <td>0</td>\n",
       "      <td>0</td>\n",
       "      <td>1</td>\n",
       "      <td>0</td>\n",
       "      <td>...</td>\n",
       "      <td>0</td>\n",
       "      <td>0</td>\n",
       "      <td>1</td>\n",
       "      <td>0</td>\n",
       "      <td>0</td>\n",
       "      <td>1</td>\n",
       "      <td>0</td>\n",
       "      <td>0</td>\n",
       "      <td>0</td>\n",
       "      <td>0</td>\n",
       "    </tr>\n",
       "    <tr>\n",
       "      <th>1</th>\n",
       "      <td>1</td>\n",
       "      <td>1</td>\n",
       "      <td>0</td>\n",
       "      <td>28</td>\n",
       "      <td>7.183562</td>\n",
       "      <td>2.0</td>\n",
       "      <td>1</td>\n",
       "      <td>0</td>\n",
       "      <td>0</td>\n",
       "      <td>0</td>\n",
       "      <td>...</td>\n",
       "      <td>0</td>\n",
       "      <td>0</td>\n",
       "      <td>0</td>\n",
       "      <td>0</td>\n",
       "      <td>0</td>\n",
       "      <td>1</td>\n",
       "      <td>0</td>\n",
       "      <td>0</td>\n",
       "      <td>0</td>\n",
       "      <td>0</td>\n",
       "    </tr>\n",
       "    <tr>\n",
       "      <th>2</th>\n",
       "      <td>1</td>\n",
       "      <td>1</td>\n",
       "      <td>0</td>\n",
       "      <td>35</td>\n",
       "      <td>0.838356</td>\n",
       "      <td>2.0</td>\n",
       "      <td>0</td>\n",
       "      <td>0</td>\n",
       "      <td>1</td>\n",
       "      <td>0</td>\n",
       "      <td>...</td>\n",
       "      <td>0</td>\n",
       "      <td>0</td>\n",
       "      <td>0</td>\n",
       "      <td>0</td>\n",
       "      <td>0</td>\n",
       "      <td>1</td>\n",
       "      <td>0</td>\n",
       "      <td>0</td>\n",
       "      <td>0</td>\n",
       "      <td>0</td>\n",
       "    </tr>\n",
       "    <tr>\n",
       "      <th>3</th>\n",
       "      <td>0</td>\n",
       "      <td>1</td>\n",
       "      <td>1</td>\n",
       "      <td>30</td>\n",
       "      <td>4.846575</td>\n",
       "      <td>3.0</td>\n",
       "      <td>0</td>\n",
       "      <td>0</td>\n",
       "      <td>0</td>\n",
       "      <td>0</td>\n",
       "      <td>...</td>\n",
       "      <td>0</td>\n",
       "      <td>0</td>\n",
       "      <td>0</td>\n",
       "      <td>0</td>\n",
       "      <td>0</td>\n",
       "      <td>1</td>\n",
       "      <td>0</td>\n",
       "      <td>0</td>\n",
       "      <td>0</td>\n",
       "      <td>0</td>\n",
       "    </tr>\n",
       "    <tr>\n",
       "      <th>4</th>\n",
       "      <td>1</td>\n",
       "      <td>0</td>\n",
       "      <td>0</td>\n",
       "      <td>33</td>\n",
       "      <td>4.293151</td>\n",
       "      <td>1.0</td>\n",
       "      <td>1</td>\n",
       "      <td>0</td>\n",
       "      <td>0</td>\n",
       "      <td>0</td>\n",
       "      <td>...</td>\n",
       "      <td>0</td>\n",
       "      <td>0</td>\n",
       "      <td>1</td>\n",
       "      <td>0</td>\n",
       "      <td>0</td>\n",
       "      <td>0</td>\n",
       "      <td>0</td>\n",
       "      <td>0</td>\n",
       "      <td>0</td>\n",
       "      <td>1</td>\n",
       "    </tr>\n",
       "  </tbody>\n",
       "</table>\n",
       "<p>5 rows × 24 columns</p>\n",
       "</div>"
      ],
      "text/plain": [
       "   posse_de_veiculo  posse_de_imovel  qtd_filhos  idade  tempo_emprego  \\\n",
       "0                 0                1           0     26       6.602740   \n",
       "1                 1                1           0     28       7.183562   \n",
       "2                 1                1           0     35       0.838356   \n",
       "3                 0                1           1     30       4.846575   \n",
       "4                 1                0           0     33       4.293151   \n",
       "\n",
       "   qt_pessoas_residencia  sexo_M  tipo_renda_Bolsista  tipo_renda_Empresário  \\\n",
       "0                    1.0       0                    0                      1   \n",
       "1                    2.0       1                    0                      0   \n",
       "2                    2.0       0                    0                      1   \n",
       "3                    3.0       0                    0                      0   \n",
       "4                    1.0       1                    0                      0   \n",
       "\n",
       "   tipo_renda_Pensionista  ...  educacao_Superior incompleto  \\\n",
       "0                       0  ...                             0   \n",
       "1                       0  ...                             0   \n",
       "2                       0  ...                             0   \n",
       "3                       0  ...                             0   \n",
       "4                       0  ...                             0   \n",
       "\n",
       "   estado_civil_Separado  estado_civil_Solteiro  estado_civil_União  \\\n",
       "0                      0                      1                   0   \n",
       "1                      0                      0                   0   \n",
       "2                      0                      0                   0   \n",
       "3                      0                      0                   0   \n",
       "4                      0                      1                   0   \n",
       "\n",
       "   estado_civil_Viúvo  tipo_residencia_Casa  tipo_residencia_Com os pais  \\\n",
       "0                   0                     1                            0   \n",
       "1                   0                     1                            0   \n",
       "2                   0                     1                            0   \n",
       "3                   0                     1                            0   \n",
       "4                   0                     0                            0   \n",
       "\n",
       "   tipo_residencia_Comunitário  tipo_residencia_Estúdio  \\\n",
       "0                            0                        0   \n",
       "1                            0                        0   \n",
       "2                            0                        0   \n",
       "3                            0                        0   \n",
       "4                            0                        0   \n",
       "\n",
       "   tipo_residencia_Governamental  \n",
       "0                              0  \n",
       "1                              0  \n",
       "2                              0  \n",
       "3                              0  \n",
       "4                              1  \n",
       "\n",
       "[5 rows x 24 columns]"
      ]
     },
     "execution_count": 51,
     "metadata": {},
     "output_type": "execute_result"
    }
   ],
   "source": [
    "X_step = pd.get_dummies(X, drop_first=True, dtype='int')\n",
    "for coluna in X_step.columns:\n",
    "    if X_step[coluna].dtype == 'bool':\n",
    "        X_step[coluna] = X_step[coluna].astype('int')\n",
    "X_step.head()"
   ]
  },
  {
   "cell_type": "code",
   "execution_count": 52,
   "metadata": {},
   "outputs": [
    {
     "name": "stdout",
     "output_type": "stream",
     "text": [
      "Add  tempo_emprego                  with p-value 0.0\n",
      "Add  sexo_M                         with p-value 0.0\n",
      "Add  tipo_renda_Empresário          with p-value 1.62786e-24\n",
      "Add  educacao_Superior completo     with p-value 3.98351e-16\n",
      "Add  idade                          with p-value 2.09057e-13\n",
      "Add  posse_de_imovel                with p-value 4.58727e-10\n",
      "Add  qtd_filhos                     with p-value 0.000598764\n",
      "Add  posse_de_veiculo               with p-value 0.00151995\n",
      "Add  tipo_renda_Servidor público    with p-value 0.00780024\n",
      "\n",
      "Variáveis selecionadas:\n",
      "\n",
      "['tempo_emprego', 'sexo_M', 'tipo_renda_Empresário', 'educacao_Superior completo', 'idade', 'posse_de_imovel', 'qtd_filhos', 'posse_de_veiculo', 'tipo_renda_Servidor público']\n"
     ]
    }
   ],
   "source": [
    "try:\n",
    "    result = stepwise_selection(X_step, np.log(y))\n",
    "\n",
    "    print(f'\\nVariáveis selecionadas:\\n')\n",
    "    print(result)\n",
    "except ValueError as ve:\n",
    "    print(ve)"
   ]
  },
  {
   "cell_type": "code",
   "execution_count": 53,
   "metadata": {},
   "outputs": [
    {
     "name": "stdout",
     "output_type": "stream",
     "text": [
      "R-quadrado do modelo Stepwise nos dados de teste: 0.2787248413179789\n"
     ]
    }
   ],
   "source": [
    "X_train_step, X_test_step, y_train_step, y_test_step = train_test_split(X_step, y, test_size=.25, random_state=42)\n",
    "\n",
    "reg_stepwise = sm.OLS(y_train_step, sm.add_constant(pd.DataFrame(X_train_step[result]))).fit()\n",
    "\n",
    "X_test_sm = sm.add_constant(X_test_step[result])\n",
    "y_pred = reg_stepwise.predict(X_test_sm)\n",
    "\n",
    "r2_step = r2_score(y_test_step, y_pred)\n",
    "\n",
    "print(f'R-quadrado do modelo Stepwise nos dados de teste: {r2}')"
   ]
  },
  {
   "cell_type": "markdown",
   "metadata": {},
   "source": [
    "Rodei o código para gerar o stepwise algumas vezes e o resultado é sempre o mesmo, portanto o melhor que consegui com esse método"
   ]
  },
  {
   "cell_type": "markdown",
   "metadata": {},
   "source": [
    "5. Compare os parâmetros e avalie eventuais diferenças. Qual modelo você acha o melhor de todos?"
   ]
  },
  {
   "cell_type": "code",
   "execution_count": 54,
   "metadata": {},
   "outputs": [
    {
     "name": "stdout",
     "output_type": "stream",
     "text": [
      "R² do melhor modelo Lasso na base de testes: 0.2947786000590946\n",
      "\n",
      "R² do melhor modelo Ridge na base de testes: 0.3076345894666336\n",
      "\n",
      "R² do melhor modelo Stepwise na base de testes: 0.2977549927961066\n"
     ]
    }
   ],
   "source": [
    "md = smf.ols(modelo, data = df_train)\n",
    "reg_lasso = md.fit_regularized(method = 'elastic_net' \n",
    "                        , refit = True\n",
    "                        , L1_wt=1\n",
    "                        , alpha = 0.001)\n",
    "\n",
    "r2_lasso = r2_score(y_test, np.exp(reg_lasso.predict(X_test)))\n",
    "\n",
    "print(f'R² do melhor modelo Lasso na base de testes: {r2_lasso}\\n')\n",
    "\n",
    "reg_ridge = md.fit_regularized(method = 'elastic_net' \n",
    "                        , refit = True\n",
    "                        , L1_wt=0\n",
    "                        , alpha = 0.01)\n",
    "\n",
    "r2_ridge = r2_score(y_test, np.exp(reg_ridge.predict(X_test)))\n",
    "\n",
    "print(f'R² do melhor modelo Ridge na base de testes: {r2_ridge}\\n')\n",
    "\n",
    "print(f'R² do melhor modelo Stepwise na base de testes: {r2_step}')"
   ]
  },
  {
   "cell_type": "markdown",
   "metadata": {},
   "source": [
    "Avaliando apenas o R², o melhor modelo parece ser o Ridge"
   ]
  },
  {
   "cell_type": "markdown",
   "metadata": {},
   "source": [
    "6. Partindo dos modelos que você ajustou, tente melhorar o $R^2$ na base de testes. Use a criatividade, veja se consegue inserir alguma transformação ou combinação de variáveis."
   ]
  },
  {
   "cell_type": "code",
   "execution_count": 18,
   "metadata": {},
   "outputs": [
    {
     "name": "stdout",
     "output_type": "stream",
     "text": [
      "np.log(renda) ~ sexo + \n",
      "            posse_de_veiculo + \n",
      "            posse_de_imovel + \n",
      "            qtd_filhos + \n",
      "            tipo_renda + \n",
      "            educacao + \n",
      "            estado_civil + \n",
      "            tipo_residencia + \n",
      "            idade + \n",
      "            tempo_emprego + \n",
      "            qt_pessoas_residencia\n"
     ]
    }
   ],
   "source": [
    "print(modelo)"
   ]
  },
  {
   "cell_type": "code",
   "execution_count": 123,
   "metadata": {},
   "outputs": [],
   "source": [
    "modelo_ajustado = '''\n",
    "np.log(renda) ~ sexo + \n",
    "            posse_de_veiculo + \n",
    "            posse_de_imovel + \n",
    "            tipo_renda + \n",
    "            educacao + \n",
    "            estado_civil + \n",
    "            tipo_residencia +\n",
    "            standardize(qtd_filhos) +\n",
    "            idade + \n",
    "            np.sqrt(tempo_emprego) + \n",
    "            center(qt_pessoas_residencia)\n",
    "'''"
   ]
  },
  {
   "cell_type": "code",
   "execution_count": 124,
   "metadata": {},
   "outputs": [
    {
     "name": "stdout",
     "output_type": "stream",
     "text": [
      "R² do melhor modelo Lasso na base de testes: 0.2667375163930933\n",
      "\n",
      "R² do melhor modelo Ridge na base de testes: 0.32075041032226914\n",
      "\n"
     ]
    }
   ],
   "source": [
    "md_ajustado = smf.ols(modelo_ajustado, data = df_train)\n",
    "reg_lasso = md_ajustado.fit_regularized(method = 'elastic_net' \n",
    "                        , refit = True\n",
    "                        , L1_wt=1\n",
    "                        , alpha = 0.001)\n",
    "\n",
    "r2_lasso = r2_score(y_test, np.exp(reg_lasso.predict(X_test)))\n",
    "\n",
    "print(f'R² do melhor modelo Lasso na base de testes: {r2_lasso}\\n')\n",
    "\n",
    "reg_ridge = md_ajustado.fit_regularized(method = 'elastic_net' \n",
    "                        , refit = True\n",
    "                        , L1_wt=0\n",
    "                        , alpha = 0.01)\n",
    "\n",
    "r2_ridge = r2_score(y_test, np.exp(reg_ridge.predict(X_test)))\n",
    "\n",
    "print(f'R² do melhor modelo Ridge na base de testes: {r2_ridge}\\n')"
   ]
  },
  {
   "cell_type": "markdown",
   "metadata": {},
   "source": [
    "Consegui melhorar um pouco o valor de R² para a regressão Ridge, porém piorou na Lasso. Vou tentar outra abordagem"
   ]
  },
  {
   "cell_type": "code",
   "execution_count": 152,
   "metadata": {},
   "outputs": [],
   "source": [
    "modelo_ajustado_2 = '''\n",
    "np.log(renda) ~ sexo + \n",
    "            posse_de_veiculo + \n",
    "            posse_de_imovel + \n",
    "            tipo_renda + \n",
    "            educacao + \n",
    "            estado_civil + \n",
    "            tipo_residencia +\n",
    "            qtd_filhos +\n",
    "            np.log(idade) + \n",
    "            tempo_emprego + \n",
    "            qt_pessoas_residencia\n",
    "'''"
   ]
  },
  {
   "cell_type": "code",
   "execution_count": 153,
   "metadata": {},
   "outputs": [
    {
     "name": "stdout",
     "output_type": "stream",
     "text": [
      "R² do melhor modelo Lasso na base de testes: 0.29511564060734274\n",
      "\n",
      "R² do melhor modelo Ridge na base de testes: 0.30184048826654486\n",
      "\n"
     ]
    }
   ],
   "source": [
    "md_ajustado_2 = smf.ols(modelo_ajustado_2, data = df_train)\n",
    "reg_lasso = md_ajustado_2.fit_regularized(method = 'elastic_net' \n",
    "                        , refit = True\n",
    "                        , L1_wt=1\n",
    "                        , alpha = 0.001)\n",
    "\n",
    "r2_lasso = r2_score(y_test, np.exp(reg_lasso.predict(X_test)))\n",
    "\n",
    "print(f'R² do melhor modelo Lasso na base de testes: {r2_lasso}\\n')\n",
    "\n",
    "reg_ridge = md_ajustado_2.fit_regularized(method = 'elastic_net' \n",
    "                        , refit = True\n",
    "                        , L1_wt=0\n",
    "                        , alpha = 0.01)\n",
    "\n",
    "r2_ridge = r2_score(y_test, np.exp(reg_ridge.predict(X_test)))\n",
    "\n",
    "print(f'R² do melhor modelo Ridge na base de testes: {r2_ridge}\\n')"
   ]
  },
  {
   "cell_type": "markdown",
   "metadata": {},
   "source": [
    "Consegui uma melhora bem pequena no Lasso, aplicando o log na idade no modelo"
   ]
  },
  {
   "cell_type": "markdown",
   "metadata": {},
   "source": [
    "7. Ajuste uma árvore de regressão e veja se consegue um $R^2$ melhor com ela."
   ]
  },
  {
   "cell_type": "code",
   "execution_count": 156,
   "metadata": {},
   "outputs": [
    {
     "name": "stdout",
     "output_type": "stream",
     "text": [
      "R² da árvore de regressão: 0.23210037063126965\n"
     ]
    }
   ],
   "source": [
    "reg_tree = DecisionTreeRegressor()\n",
    "reg_tree.fit(X_train_step, y_train_step)\n",
    "\n",
    "print(f\"R² da árvore de regressão: {reg_tree.score(X_test_step, y_test_step)}\")"
   ]
  },
  {
   "cell_type": "markdown",
   "metadata": {},
   "source": [
    "Resultado foi inferior"
   ]
  }
 ],
 "metadata": {
  "kernelspec": {
   "display_name": "Python 3",
   "language": "python",
   "name": "python3"
  },
  "language_info": {
   "codemirror_mode": {
    "name": "ipython",
    "version": 3
   },
   "file_extension": ".py",
   "mimetype": "text/x-python",
   "name": "python",
   "nbconvert_exporter": "python",
   "pygments_lexer": "ipython3",
   "version": "3.11.7"
  }
 },
 "nbformat": 4,
 "nbformat_minor": 4
}
